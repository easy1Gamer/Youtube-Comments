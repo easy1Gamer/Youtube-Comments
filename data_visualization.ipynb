{
 "cells": [
  {
   "cell_type": "code",
   "id": "initial_id",
   "metadata": {
    "collapsed": true
   },
   "source": [
    "import seaborn as sns\n",
    "import matplotlib.pyplot as plt\n",
    "import nltk\n",
    "from nltk.corpus import stopwords\n",
    "from sympy import rotations\n",
    "\n",
    "\n",
    "nltk.download('stopwords')\n",
    "nltk.download('punkt')\n",
    "from wordcloud import WordCloud\n",
    "import pandas.errors as pd_err\n"
   ],
   "outputs": [],
   "execution_count": null
  },
  {
   "metadata": {},
   "cell_type": "code",
   "source": [
    "%store -r df_categories_stats\n",
    "%store -r df_comment_by_category\n",
    "%store -r df_comment_by_category_stats"
   ],
   "id": "5c80f259ccaf1417",
   "outputs": [],
   "execution_count": null
  },
  {
   "metadata": {},
   "cell_type": "code",
   "source": [
    "def dislike_rate_chart(name_category):\n",
    "    try:\n",
    "        data_local = df_categories_stats.loc[f'{name_category}']\n",
    "        data_local = data_local['dislikes'] / data_local['total_reactions']\n",
    "        data_local = round(data_local * 100, 2)\n",
    "        sns.set_style('whitegrid')\n",
    "        plt.figure(figsize=(6, 6))\n",
    "        plt.pie((100, data_local), labels=['', 'dislikes'], autopct='%1.1f%%')\n",
    "        plt.title('Dislike rate')\n",
    "        plt.suptitle(f'Category: {name_category}')\n",
    "        plt.show()\n",
    "    except KeyError :\n",
    "        return \"Something went wrong! Please check if is given category name is valid.\"\n",
    "\n",
    "dislike_rate_chart(input())"
   ],
   "id": "b6f624222058a967",
   "outputs": [],
   "execution_count": null
  },
  {
   "metadata": {},
   "cell_type": "code",
   "source": [
    "#Creating word clouds\n",
    "def draw_wordcloud(name_category):\n",
    "    try:\n",
    "        negative_wordcloud = WordCloud(background_color=\"white\", stopwords=set(stopwords.words('english'))).generate(df_comment_by_category.loc[f'{name_category}'])\n",
    "        plt.figure(figsize=(15,10))\n",
    "        plt.suptitle(f'Category: {name_category}')\n",
    "        plt.axis('off')\n",
    "        plt.imshow(negative_wordcloud)\n",
    "        plt.show()\n",
    "    except KeyError:\n",
    "        return \"Something went wrong! Please check if is given category name is valid.\"\n",
    "\n",
    "draw_wordcloud(input())"
   ],
   "id": "4f18db49d67b590e",
   "outputs": [],
   "execution_count": null
  },
  {
   "metadata": {},
   "cell_type": "code",
   "source": [
    "def word_usage(name_category):\n",
    "    try:\n",
    "        data_local = df_comment_by_category_stats.loc[f'{name_category}']\n",
    "        data_local = dict([(n[0], n[1] / data_local['nb_words']) for n in data_local['top_words']])\n",
    "        sns.set_theme(style='whitegrid')\n",
    "        f, ax = plt.subplots(figsize=(10, 10))\n",
    "        sns.barplot(data=data_local, x=data_local.values(), y=data_local.keys(), label='words', legend=False, color='red')\n",
    "        ax.set(xlim=(0, 0.014), xlabel='Most popular words occurrence ratio')\n",
    "        sns.despine(left=True, bottom=True)\n",
    "        plt.show()\n",
    "    except KeyError:\n",
    "        return \"Something went wrong! Please check if is given category name is valid.\"\n",
    "\n",
    "word_usage(input())"
   ],
   "id": "da29df58f4d51c25",
   "outputs": [],
   "execution_count": null
  }
 ],
 "metadata": {
  "kernelspec": {
   "display_name": "Python 3",
   "language": "python",
   "name": "python3"
  },
  "language_info": {
   "codemirror_mode": {
    "name": "ipython",
    "version": 2
   },
   "file_extension": ".py",
   "mimetype": "text/x-python",
   "name": "python",
   "nbconvert_exporter": "python",
   "pygments_lexer": "ipython2",
   "version": "2.7.6"
  }
 },
 "nbformat": 4,
 "nbformat_minor": 5
}
